{
 "cells": [
  {
   "cell_type": "code",
   "execution_count": 1,
   "metadata": {},
   "outputs": [],
   "source": [
    "# Download an unzip data\n",
    "# https://drive.google.com/file/d/12irq-mn0mom28AZsDlsHmNpvXekOkTQ7/view?usp=sharing\n",
    "\n",
    "#import gdown\n",
    "#gdown.download(id='12irq-mn0mom28AZsDlsHmNpvXekOkTQ7')\n",
    "#\n",
    "#\n",
    "#import zipfile\n",
    "#with zipfile.ZipFile('Ejercicio_Python.zip', 'r') as zip_ref:\n",
    "#    zip_ref.extractall()\n",
    "#\n"
   ]
  },
  {
   "cell_type": "code",
   "execution_count": 1,
   "metadata": {},
   "outputs": [],
   "source": [
    "import pandas as pd"
   ]
  },
  {
   "cell_type": "code",
   "execution_count": 2,
   "metadata": {},
   "outputs": [
    {
     "data": {
      "text/html": [
       "<div>\n",
       "<style scoped>\n",
       "    .dataframe tbody tr th:only-of-type {\n",
       "        vertical-align: middle;\n",
       "    }\n",
       "\n",
       "    .dataframe tbody tr th {\n",
       "        vertical-align: top;\n",
       "    }\n",
       "\n",
       "    .dataframe thead th {\n",
       "        text-align: right;\n",
       "    }\n",
       "</style>\n",
       "<table border=\"1\" class=\"dataframe\">\n",
       "  <thead>\n",
       "    <tr style=\"text-align: right;\">\n",
       "      <th></th>\n",
       "      <th>block_id</th>\n",
       "      <th>volume</th>\n",
       "      <th>veta</th>\n",
       "      <th>categ</th>\n",
       "      <th>densidad</th>\n",
       "      <th>minado</th>\n",
       "      <th>au_ppm</th>\n",
       "      <th>ag_ppm</th>\n",
       "      <th>pb_pct</th>\n",
       "      <th>zn_pct</th>\n",
       "    </tr>\n",
       "  </thead>\n",
       "  <tbody>\n",
       "    <tr>\n",
       "      <th>0</th>\n",
       "      <td>0</td>\n",
       "      <td>0.125</td>\n",
       "      <td>1</td>\n",
       "      <td>-99</td>\n",
       "      <td>-99.0</td>\n",
       "      <td>0</td>\n",
       "      <td>0.0</td>\n",
       "      <td>0.0</td>\n",
       "      <td>0.0</td>\n",
       "      <td>0.0</td>\n",
       "    </tr>\n",
       "    <tr>\n",
       "      <th>1</th>\n",
       "      <td>1</td>\n",
       "      <td>0.125</td>\n",
       "      <td>1</td>\n",
       "      <td>-99</td>\n",
       "      <td>-99.0</td>\n",
       "      <td>0</td>\n",
       "      <td>0.0</td>\n",
       "      <td>0.0</td>\n",
       "      <td>0.0</td>\n",
       "      <td>0.0</td>\n",
       "    </tr>\n",
       "    <tr>\n",
       "      <th>2</th>\n",
       "      <td>2</td>\n",
       "      <td>0.500</td>\n",
       "      <td>1</td>\n",
       "      <td>-99</td>\n",
       "      <td>-99.0</td>\n",
       "      <td>0</td>\n",
       "      <td>0.0</td>\n",
       "      <td>0.0</td>\n",
       "      <td>0.0</td>\n",
       "      <td>0.0</td>\n",
       "    </tr>\n",
       "    <tr>\n",
       "      <th>3</th>\n",
       "      <td>3</td>\n",
       "      <td>1.500</td>\n",
       "      <td>1</td>\n",
       "      <td>-99</td>\n",
       "      <td>-99.0</td>\n",
       "      <td>0</td>\n",
       "      <td>0.0</td>\n",
       "      <td>0.0</td>\n",
       "      <td>0.0</td>\n",
       "      <td>0.0</td>\n",
       "    </tr>\n",
       "    <tr>\n",
       "      <th>4</th>\n",
       "      <td>4</td>\n",
       "      <td>0.250</td>\n",
       "      <td>1</td>\n",
       "      <td>-99</td>\n",
       "      <td>-99.0</td>\n",
       "      <td>0</td>\n",
       "      <td>0.0</td>\n",
       "      <td>0.0</td>\n",
       "      <td>0.0</td>\n",
       "      <td>0.0</td>\n",
       "    </tr>\n",
       "  </tbody>\n",
       "</table>\n",
       "</div>"
      ],
      "text/plain": [
       "   block_id  volume  veta  categ  densidad  minado  au_ppm  ag_ppm  pb_pct  \\\n",
       "0         0   0.125     1    -99     -99.0       0     0.0     0.0     0.0   \n",
       "1         1   0.125     1    -99     -99.0       0     0.0     0.0     0.0   \n",
       "2         2   0.500     1    -99     -99.0       0     0.0     0.0     0.0   \n",
       "3         3   1.500     1    -99     -99.0       0     0.0     0.0     0.0   \n",
       "4         4   0.250     1    -99     -99.0       0     0.0     0.0     0.0   \n",
       "\n",
       "   zn_pct  \n",
       "0     0.0  \n",
       "1     0.0  \n",
       "2     0.0  \n",
       "3     0.0  \n",
       "4     0.0  "
      ]
     },
     "execution_count": 2,
     "metadata": {},
     "output_type": "execute_result"
    }
   ],
   "source": [
    "df = pd.read_csv('Ejercicio_Python/MB_200_300_hyr.csv')\n",
    "df.head()"
   ]
  },
  {
   "cell_type": "code",
   "execution_count": 4,
   "metadata": {},
   "outputs": [],
   "source": [
    "df.dropna(inplace=True)"
   ]
  },
  {
   "cell_type": "code",
   "execution_count": 5,
   "metadata": {},
   "outputs": [
    {
     "data": {
      "text/plain": [
       "array([-99,   4,   3,   2,   1])"
      ]
     },
     "execution_count": 5,
     "metadata": {},
     "output_type": "execute_result"
    }
   ],
   "source": [
    "df['categ'].unique()"
   ]
  },
  {
   "cell_type": "code",
   "execution_count": 13,
   "metadata": {},
   "outputs": [
    {
     "data": {
      "text/html": [
       "<div>\n",
       "<style scoped>\n",
       "    .dataframe tbody tr th:only-of-type {\n",
       "        vertical-align: middle;\n",
       "    }\n",
       "\n",
       "    .dataframe tbody tr th {\n",
       "        vertical-align: top;\n",
       "    }\n",
       "\n",
       "    .dataframe thead th {\n",
       "        text-align: right;\n",
       "    }\n",
       "</style>\n",
       "<table border=\"1\" class=\"dataframe\">\n",
       "  <thead>\n",
       "    <tr style=\"text-align: right;\">\n",
       "      <th></th>\n",
       "      <th>block_id</th>\n",
       "      <th>volume</th>\n",
       "      <th>veta</th>\n",
       "      <th>categ</th>\n",
       "      <th>densidad</th>\n",
       "      <th>minado</th>\n",
       "      <th>au_ppm</th>\n",
       "      <th>ag_ppm</th>\n",
       "      <th>pb_pct</th>\n",
       "      <th>zn_pct</th>\n",
       "    </tr>\n",
       "  </thead>\n",
       "  <tbody>\n",
       "    <tr>\n",
       "      <th>70169</th>\n",
       "      <td>70169</td>\n",
       "      <td>0.125</td>\n",
       "      <td>200</td>\n",
       "      <td>4</td>\n",
       "      <td>2.57</td>\n",
       "      <td>0</td>\n",
       "      <td>-99.0</td>\n",
       "      <td>-99.0</td>\n",
       "      <td>-99.0</td>\n",
       "      <td>-99.0</td>\n",
       "    </tr>\n",
       "    <tr>\n",
       "      <th>70180</th>\n",
       "      <td>70180</td>\n",
       "      <td>0.125</td>\n",
       "      <td>200</td>\n",
       "      <td>4</td>\n",
       "      <td>2.57</td>\n",
       "      <td>0</td>\n",
       "      <td>-99.0</td>\n",
       "      <td>-99.0</td>\n",
       "      <td>-99.0</td>\n",
       "      <td>-99.0</td>\n",
       "    </tr>\n",
       "    <tr>\n",
       "      <th>70184</th>\n",
       "      <td>70184</td>\n",
       "      <td>0.125</td>\n",
       "      <td>200</td>\n",
       "      <td>4</td>\n",
       "      <td>2.57</td>\n",
       "      <td>0</td>\n",
       "      <td>-99.0</td>\n",
       "      <td>-99.0</td>\n",
       "      <td>-99.0</td>\n",
       "      <td>-99.0</td>\n",
       "    </tr>\n",
       "    <tr>\n",
       "      <th>70199</th>\n",
       "      <td>70199</td>\n",
       "      <td>0.125</td>\n",
       "      <td>200</td>\n",
       "      <td>4</td>\n",
       "      <td>2.57</td>\n",
       "      <td>0</td>\n",
       "      <td>-99.0</td>\n",
       "      <td>-99.0</td>\n",
       "      <td>-99.0</td>\n",
       "      <td>-99.0</td>\n",
       "    </tr>\n",
       "    <tr>\n",
       "      <th>70200</th>\n",
       "      <td>70200</td>\n",
       "      <td>0.125</td>\n",
       "      <td>200</td>\n",
       "      <td>4</td>\n",
       "      <td>2.57</td>\n",
       "      <td>0</td>\n",
       "      <td>-99.0</td>\n",
       "      <td>-99.0</td>\n",
       "      <td>-99.0</td>\n",
       "      <td>-99.0</td>\n",
       "    </tr>\n",
       "  </tbody>\n",
       "</table>\n",
       "</div>"
      ],
      "text/plain": [
       "       block_id  volume  veta  categ  densidad  minado  au_ppm  ag_ppm  \\\n",
       "70169     70169   0.125   200      4      2.57       0   -99.0   -99.0   \n",
       "70180     70180   0.125   200      4      2.57       0   -99.0   -99.0   \n",
       "70184     70184   0.125   200      4      2.57       0   -99.0   -99.0   \n",
       "70199     70199   0.125   200      4      2.57       0   -99.0   -99.0   \n",
       "70200     70200   0.125   200      4      2.57       0   -99.0   -99.0   \n",
       "\n",
       "       pb_pct  zn_pct  \n",
       "70169   -99.0   -99.0  \n",
       "70180   -99.0   -99.0  \n",
       "70184   -99.0   -99.0  \n",
       "70199   -99.0   -99.0  \n",
       "70200   -99.0   -99.0  "
      ]
     },
     "execution_count": 13,
     "metadata": {},
     "output_type": "execute_result"
    }
   ],
   "source": [
    "categ = [1,2,3,4]\n",
    "filt = (df['categ'].isin(categ)) & (df['veta']>1)\n",
    "df_filt = df[filt]\n",
    "df_filt.head()"
   ]
  },
  {
   "cell_type": "code",
   "execution_count": 16,
   "metadata": {},
   "outputs": [
    {
     "ename": "",
     "evalue": "",
     "output_type": "error",
     "traceback": [
      "\u001b[1;31mCanceled future for execute_request message before replies were done"
     ]
    },
    {
     "ename": "",
     "evalue": "",
     "output_type": "error",
     "traceback": [
      "\u001b[1;31mEl Kernel se bloqueó al ejecutar código en la celda actual o en una celda anterior. Revise el código de las celdas para identificar una posible causa del error. Haga clic <a href='https://aka.ms/vscodeJupyterKernelCrash'>aquí</a> para obtener más información. Vea el [registro] de Jupyter (command:jupyter.viewOutput) para obtener más detalles."
     ]
    }
   ],
   "source": [
    "def tonelaje(fila):\n",
    "    return fila['volume']*fila['densidad']\n",
    "\n",
    "def prom_x(x):\n",
    "    pass\n",
    "\n",
    "\n",
    "df_filt['tonelaje']=df_filt.apply(tonelaje, axis=1)\n",
    "df_filt"
   ]
  },
  {
   "cell_type": "code",
   "execution_count": null,
   "metadata": {},
   "outputs": [],
   "source": [
    "df_filt.groupby(by=['veta', 'categ']).mean()"
   ]
  },
  {
   "cell_type": "code",
   "execution_count": 7,
   "metadata": {},
   "outputs": [
    {
     "data": {
      "text/plain": [
       "array([  1, 302, 200, 309, 311, 307, 303, 308, 208, 203, 306, 310, 209,\n",
       "       207, 312, 301, 300, 204, 305, 304, 201, 205, 206])"
      ]
     },
     "execution_count": 7,
     "metadata": {},
     "output_type": "execute_result"
    }
   ],
   "source": [
    "df['veta'].unique()"
   ]
  }
 ],
 "metadata": {
  "kernelspec": {
   "display_name": "Python 3.10.7 64-bit",
   "language": "python",
   "name": "python3"
  },
  "language_info": {
   "codemirror_mode": {
    "name": "ipython",
    "version": 3
   },
   "file_extension": ".py",
   "mimetype": "text/x-python",
   "name": "python",
   "nbconvert_exporter": "python",
   "pygments_lexer": "ipython3",
   "version": "3.10.7"
  },
  "orig_nbformat": 4,
  "vscode": {
   "interpreter": {
    "hash": "eb4a0ac80907d7f44e1a5e88d3d3381b33e3dbedd3a24d113e876f30a0c46bee"
   }
  }
 },
 "nbformat": 4,
 "nbformat_minor": 2
}
